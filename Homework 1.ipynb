{
 "cells": [
  {
   "cell_type": "code",
   "execution_count": 1,
   "id": "e3513375",
   "metadata": {},
   "outputs": [],
   "source": [
    "import numpy as np; from scipy import stats; import matplotlib.pyplot as plt"
   ]
  },
  {
   "cell_type": "code",
   "execution_count": 2,
   "id": "3da64aa3",
   "metadata": {},
   "outputs": [],
   "source": [
    "# Let theta_A = 0.3, theta_B = 0.5, theta_C = 0.7\n",
    "# Let the inital alpha = beta = 1\n",
    "\n",
    "theta_a = 0.3\n",
    "theta_b = 0.5\n",
    "theta_c = 0.7\n",
    "alpha = 1\n",
    "beta = 1"
   ]
  },
  {
   "cell_type": "code",
   "execution_count": 3,
   "id": "c6af2ac5",
   "metadata": {},
   "outputs": [
    {
     "name": "stdout",
     "output_type": "stream",
     "text": [
      "0.9999999999999996 0.9999999999999996 0.9999999999999998\n"
     ]
    }
   ],
   "source": [
    "# Find the largest to start with\n",
    "\n",
    "a = stats.beta(a=alpha,b=beta).pdf(theta_a)\n",
    "b = stats.beta(a=alpha,b=beta).pdf(theta_b)\n",
    "c = stats.beta(a=alpha,b=beta).pdf(theta_c)\n",
    "\n",
    "print(a, b, c)"
   ]
  },
  {
   "cell_type": "code",
   "execution_count": 4,
   "id": "4faed210",
   "metadata": {
    "scrolled": true
   },
   "outputs": [
    {
     "name": "stdout",
     "output_type": "stream",
     "text": [
      "0.7\n",
      "0.7\n",
      "0.7\n",
      "0.7\n",
      "0.7\n",
      "0.7\n",
      "0.7\n",
      "0.7\n",
      "0.7\n",
      "0.7\n"
     ]
    }
   ],
   "source": [
    "# Since c is the largest, we will pick theta_c to play the game\n",
    "\n",
    "alpha = 1\n",
    "beta = 1\n",
    "n = 0\n",
    "x = 0\n",
    "theta = theta_c\n",
    "for i in range(10):\n",
    "    if stats.binom(n=1,p=theta).rvs(size=1) == 1:\n",
    "        x += 1\n",
    "    n += 1\n",
    "    alpha = x + alpha - 1\n",
    "    beta = n - x + beta - 1\n",
    "    posterior_a = theta_a ** (alpha) * (1 - theta_a) ** beta\n",
    "    posterior_b = theta_b ** (alpha) * (1 - theta_b) ** beta\n",
    "    posterior_c = theta_c ** (alpha) * (1 - theta_c) ** beta\n",
    "    posteriors = {theta_a: posterior_a, theta_b: posterior_b, theta_c: posterior_c}\n",
    "    for parameter in posteriors:\n",
    "        if posteriors[parameter] == max(posterior_a, posterior_b, posterior_c):\n",
    "            print(parameter)\n",
    "            theta = parameter"
   ]
  },
  {
   "cell_type": "code",
   "execution_count": 5,
   "id": "e793942c",
   "metadata": {},
   "outputs": [],
   "source": [
    "# As we see, for all ten trials, theta_c has greatest posterior among three parameters, so theta_c = 0.7 is the best."
   ]
  }
 ],
 "metadata": {
  "kernelspec": {
   "display_name": "Python 3 (ipykernel)",
   "language": "python",
   "name": "python3"
  },
  "language_info": {
   "codemirror_mode": {
    "name": "ipython",
    "version": 3
   },
   "file_extension": ".py",
   "mimetype": "text/x-python",
   "name": "python",
   "nbconvert_exporter": "python",
   "pygments_lexer": "ipython3",
   "version": "3.11.6"
  }
 },
 "nbformat": 4,
 "nbformat_minor": 5
}
